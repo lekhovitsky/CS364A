{
 "cells": [
  {
   "cell_type": "markdown",
   "metadata": {},
   "source": [
    "# Exercise Set III\n",
    "\n",
    "### Exercise 20\n",
    "\n",
    "(a) With no reserve price, the revenue in the Vickrey auction with two bidders is just the minimum bid. Its expected value can be computed as the following integral:\n",
    "$$\n",
    "\\mathbb{E}[p] \n",
    "    = 2\\int_{0}^{1} \\int_{y}^{1} y\\ \\mathrm{d}x\\ \\mathrm{d}y \n",
    "    = 2\\int_{0}^{1} y(1 - y)\\ \\mathrm{d}y \n",
    "    = \\left(y^2 - \\frac{2y^3}{3}\\right) \\Bigg|_0^1\n",
    "    = \\frac{1}{3}.\n",
    "$$\n",
    "$y$ is the smaller of two bids, it can be in the range from $0$ to $1$, $x$ is the larger of two bids, so it must be in the range from $y$ to $1$. The factor of two is to account that both $v_1$ and $v_2$ can be the smallest bid.\n",
    "\n",
    "(b) With a reserve price $r > 0$, the revenue is the following:\n",
    "\n",
    "* 0, if both $v_1$ and $v_2$ are smaller than $r$;\n",
    "* $r$ if $v_1 < r < v_2$ or $v_2 < r < v_1$ (gives the first integral in the expression below);\n",
    "* $\\min\\{v_1, v_2\\}$ if both $v_1$ and $v_2$ are larger than $r$ (gives the second integral in the expression below).\n",
    "\n",
    "Expected value is then\n",
    "$$\n",
    "\\mathbb{E}[p] \n",
    "    = 2 \\int_0^r \\int_r^1 r\\ \\mathrm{d}x\\ \\mathrm{d}y\n",
    "    + 2 \\int_r^1 \\int_y^1 y\\ \\mathrm{d}x\\ \\mathrm{d}y\n",
    "    = 2 r^2 (1-r) + 2 \\left(\\frac{y^2}{2} - \\frac{y^3}{3}\\right)\\Bigg|_r^1\n",
    "    = \\frac{1}{3} + r^2 - \\frac{4r^3}{3}.\n",
    "$$\n",
    "With $r=\\frac{1}{2}$, we get $\\mathbb{E}[p] = \\frac{1}{3} + \\frac{1}{4} - \\frac{1}{6} = \\frac{5}{12}$."
   ]
  },
  {
   "cell_type": "markdown",
   "metadata": {},
   "source": [
    "### Exercise 21\n",
    "\n",
    "(a) For the uniform distribution $\\mathrm{Unif}(0, a)$, the PDF is $f(v) = \\frac{1}{a}$ and the CDF is $F(v) = \\frac{v}{a}$, so the virtual valuation function is $\\varphi(v) = v - \\frac{1 - \\frac{v}{a}}{\\frac{1}{a}} = 2v - a$.\n",
    "\n",
    "(b) For the exponential distribution $\\mathrm{Exp}(\\lambda)$, the PDF is $f(v) = \\lambda e^{-\\lambda v}$ and the CDF is $F(v) = 1 - e^{-\\lambda v}$, so the virtual valuation function is $\\varphi(v) = v - \\frac{e^{-\\lambda v}}{\\lambda e^{-\\lambda v}} = v - \\frac{1}{\\lambda}$.\n",
    "\n",
    "(c) For the distribution with CDF $F(v) = 1 - \\frac{1}{(v+1)^c}$, the PDF is $f(v) = \\frac{c}{(v+1)^{c+1}}$, so the virtual valuation function is $\\varphi(v) = v - \\frac{\\frac{1}{(v+1)^c}}{\\frac{c}{(v+1)^{c+1}}} = v - \\frac{1}{c}(v+1) = \\frac{c-1}{c}v - \\frac{1}{c}$.\n",
    "\n",
    "In cases (a) and (b), virtual valuation functions are always strictly increasing, while in case (c) it is strictly increasing only for $c > 1$."
   ]
  },
  {
   "cell_type": "markdown",
   "metadata": {},
   "source": [
    "### Exercise 22\n",
    "\n",
    "When $F(v) = 1 - \\frac{1}{(v+1)^c}$ with $c = 1$, the virtual valuation function is just a constant: $\\varphi(v) = -1$. Obviously, this is not a strictly increasing function, so $F$ is not regular $\\Rightarrow$ the allocation rule must not be monotone $\\Rightarrow$ the mechanism must not be DSIC $\\Rightarrow$ direct revelation principle must not hold $\\Rightarrow$ the expected virtual welfare must not be equal to the expected revenue. "
   ]
  },
  {
   "cell_type": "markdown",
   "metadata": {},
   "source": [
    "### Exercise 23\n",
    "\n",
    "An optimal allocation rule is the solution to the problem \n",
    "$$\n",
    "\\sum_{j=1}^n \\varphi(v_j) \\cdot x_j \\to \\max_{\\mathbf{x}} \\\\\n",
    "\\text{s.t. } \\sum_{j=1}^n x_j \\le k,\\  x_j \\in \\{0, 1\\}\n",
    "$$\n",
    "It awards the good to up to $k$ players with highest (positive) virtual valuation. This is, in fact, equivalent to the normal sealed-bid auction with $k$ goods and reserve price of $\\varphi^{-1}(0)$ (which depends only on $F$).\n",
    "\n",
    "The payment of a winning player $i$ is given by his critical bid, which equals to the difference of (1) the maximum virtual welfare in an auction without $i$ and (2) current virtual welfare of all players except $i$ (see Exercise 15 from the Exercise Set II)."
   ]
  },
  {
   "cell_type": "markdown",
   "metadata": {},
   "source": [
    "### Exercise 24\n",
    "\n",
    "In a sponsored search auction, an optimal allocation rule awards the first slot ($\\alpha_1$) to the bidder with the highest (virtual) valuation, the second slot ($\\alpha_2$) to the bidder with the second-highest (virtual) valuation, and so on, till either $k$-th slot is awarded or someone's virtual valuation becomes negative (since the distribution is regular, virtual valuation ordering of players is the same as normal valuation ordering). This auction corresponds to a sponsored-search auction with reserve price $\\varphi^{-1}(0)$.\n",
    "\n",
    "Now let's write down the payments. Let $l \\le k$ be the number of players who won in this auction. The per-click payment for $i$-th winner then is given by his critical bid (derivation is the same as for the normal sponsored search, but valuations are replaced with virtual valuations):\n",
    "$$\n",
    "p_i = \\sum_{j = i}^l \\varphi(v_j) \\frac{\\alpha_j - \\alpha_{j+1}}{\\alpha_i}.\n",
    "$$"
   ]
  },
  {
   "cell_type": "markdown",
   "metadata": {},
   "source": [
    "### Exercise 25\n",
    "\n",
    "Essentially, the proof replicates the one for surplus-maximization allocation rule being monotone, but with $\\mathbf{\\varphi} = \\mathbf{\\varphi}(\\mathbf{b})$ and $\\mathbf{\\varphi}^\\prime = \\mathbf{\\varphi}(\\mathbf{b}^\\prime)$ instead of $\\mathbf{b}$ and $\\mathbf{b}^\\prime$. \n",
    "\n",
    "Recall that $\\mathbf{b} = (b_1,\\ \\dots, b_i,\\ \\dots b_n)$ and  $\\mathbf{b}^\\prime = (b_1,\\ \\dots, b_i^\\prime,\\ \\dots b_n)$ with $b_i < b_i^\\prime$. Since all $\\varphi_i$'s are regular, $\\mathbf{\\varphi} = (\\varphi_1,\\ \\dots,\\varphi_i,\\ \\dots, \\varphi_n)$ and $\\mathbf{\\varphi}^\\prime = (\\varphi_1,\\ \\dots,\\varphi_i^\\prime,\\ \\dots, \\varphi_n)$ with $\\varphi_i < \\varphi_i^\\prime$, so we can repeat the reasoning from Exercise 14 (Exercise Set II)."
   ]
  },
  {
   "cell_type": "markdown",
   "metadata": {},
   "source": [
    "### Exercise 26\n",
    "\n",
    "(a) Let $i$ be the winner in the optimal auction: $i = \\arg \\max_j \\varphi_j(v_j)$ and $\\varphi_i(v_i) > 0$. $i$'s payment equals to the smallest bid at which $i$ still wins the auction. This is either $\\varphi_i^{-1}(0)$, if all other players' virtual valuations are below $0$, or $\\varphi_i^{-1}(\\max_{j \\ne i} \\varphi_j(v_j))$ otherwise.\n",
    "\n",
    "(b) Let's imagine we have two bidders, and their valuations are drawn from $\\mathrm{Unif}(0, 1)$ and $\\mathrm{Unif}(0, 2)$, respectively. So, \n",
    "$$\n",
    "\\varphi_1(v) = v - \\frac{1 - v}{1} = 2v - 1, \\varphi_2(v) = v - \\frac{1 - \\frac{v}{2}}{\\frac{1}{2}} = 2v - 2.\n",
    "$$\n",
    "If, for example $v_1 = 1$ and $v_2 = \\frac{5}{4}$, we get $\\varphi_1(v_1) = 1 > \\frac{1}{2} = \\varphi_2(v_2)$, and the first bidders wins the auction even though he has smaller valuation.\n",
    "\n",
    "(c) When the good is allocated based on virtual valuations, this increases the chances of the bidders whose valuation distributions have most of the probability mass concentrated in the left part of the support. It effectively increases the competition between the bidders, leading to higher expected revenue for an auctioneer."
   ]
  },
  {
   "cell_type": "markdown",
   "metadata": {},
   "source": [
    "### Exercise 27\n",
    "\n",
    "Oh, a tough one.\n",
    "\n",
    "Let's denote the expected revenue of the optimal auction with single good and $n$ bidders with i.i.d. valuations $v_i \\sim F$ as $R_n(\\text{OPT}_F)$, and that of the Vickrey auction as $R_n(\\text{VA})$.\n",
    "\n",
    "First, we need to establish the relation between expected revenues of optimal auctions with different number of bidders.\n",
    "\n",
    "***Lemma.*** In a single-good auction with bidders' valuations drawn i.i.d. from a regular distribution $F$, it holds that \n",
    "$$\n",
    "R_{n+1} (\\text{OPT}_F) \\le \\frac{n+1}{n} R_n (\\text{OPT}_F).\n",
    "$$\n",
    "*Proof.* Let $\\varphi(\\cdot)$, as usual, be a virtual valuation function, and $\\varphi^+(\\cdot) = \\max \\{0, \\varphi(\\cdot)\\}$. Let also $F_{\\varphi}$ and $f_{\\varphi}$ be the CDF and PDF of a random variable $\\varphi(v)$, where $v$ is a random valuation drawn from $F$ (they are somehow induced by the distribution $F$, which doesn't matter for now).\n",
    "\n",
    "We know that\n",
    "$$\n",
    "R_n(\\text{OPT}_F) = \\mathbb{E}[ \\max \\{\\varphi^+(v_1), \\dots, \\varphi^+(v_n)\\} ].\n",
    "$$\n",
    "Since valuations are independent, we can express $R_n(\\text{OPT}_F)$ as follows:\n",
    "$$\n",
    "R_n(\\text{OPT}_F)\n",
    "    = n \\int_{0}^{+\\infty} x\\ \\left( \\int_{0}^x f_{\\varphi}(t)\\ dt \\right)^{n-1} f_{\\varphi}(x)\\ dx\n",
    "    = n \\int_{0}^{+\\infty} x\\ \\left[ F_{\\varphi}(x) - F_{\\varphi}(0) \\right]^{n-1} f_{\\varphi}(x)\\ dx.\n",
    "$$\n",
    "When one new bidder is added, we get \n",
    "$$\n",
    "R_{n+1} (\\text{OPT}_F)\n",
    "    = (n+1) \\int_{0}^{+\\infty} x\\ \\left[ F_{\\varphi}(x) - F_{\\varphi}(0) \\right]^{n} f_{\\varphi}(x)\\ dx.\n",
    "$$\n",
    "By investigating the latter integral, we see that \n",
    "\n",
    "* $F_{\\varphi}(x) - F_{\\varphi}(0)$ is always in the interval $[0; 1]$ for $x > 0$;\n",
    "* $x\\ \\left[ F_{\\varphi}(x) - F_{\\varphi}(0) \\right]^{n-1} f_{\\varphi}(x)$ is always non-negative for $x > 0$.\n",
    "\n",
    "Then, by the first mean value theorem for integrals, there exists $\\mu \\in (0; 1]$ such that \n",
    "$$\n",
    "\\int_{0}^{+\\infty} x\\ \\left[ F_{\\varphi}(x) - F_{\\varphi}(0) \\right]^{n} f_{\\varphi}(x)\\ dx \n",
    "= \\mu \\int_{0}^{+\\infty} x\\ \\left[ F_{\\varphi}(x) - F_{\\varphi}(0) \\right]^{n-1} f_{\\varphi}(x)\\ dx.\n",
    "$$\n",
    "In fact, we can get a higher lower bound for $\\mu$ derived from the fact that $R_{n+1}(\\text{OPT}_F) \\ge R_{n}(\\text{OPT}_F)$, but we don't need that. What we really need is this: \n",
    "$$\n",
    "\\int_{0}^{+\\infty} x\\ \\left[ F_{\\varphi}(x) - F_{\\varphi}(0) \\right]^{n} f_{\\varphi}(x)\\ dx \n",
    "\\le\n",
    "\\int_{0}^{+\\infty} x\\ \\left[ F_{\\varphi}(x) - F_{\\varphi}(0) \\right]^{n-1} f_{\\varphi}(x)\\ dx.\n",
    "$$\n",
    "By multiplying both sides by $n+1$, we get \n",
    "$$\n",
    "R_{n+1}(\\text{OPT}_F) \n",
    "\\le\n",
    "(n+1) \\int_{0}^{+\\infty} x\\ \\left[ F_{\\varphi}(x) - F_{\\varphi}(0) \\right]^{n-1} f_{\\varphi}(x)\\ dx\n",
    "= \\frac{n+1}{n} R_{n}(\\text{OPT}_F) .\n",
    "$$\n",
    "*Proof end.*\n",
    "\n",
    "Now, from Bulow-Kleprerer theorem, we now that\n",
    "$$\n",
    "R_{n} (\\text{VA}) \\ge R_{n-1}(\\text{OPT}_F),\n",
    "$$\n",
    "and from the lemma we've just proved we know that\n",
    "$$\n",
    "R_{n} (\\text{OPT}_F) \\le \\frac{n}{n-1} R_{n-1} (\\text{OPT}_F) \n",
    "\\Rightarrow \n",
    "R_{n-1} (\\text{OPT}_F)  \\ge \\frac{n-1}{n} R_{n} (\\text{OPT}_F).\n",
    "$$\n",
    "By combining these two, we finally get \n",
    "$$\n",
    "R_n(\\text{VA}) \\ge \\frac{n-1}{n} R_{n} (\\text{OPT}_F),\n",
    "$$\n",
    "i.e., the expected revenue of the Vickrey auction is indeed at least $\\frac{n-1}{n}$ times that of th optimal auction &mdash; not that bad, after all."
   ]
  }
 ],
 "metadata": {
  "kernelspec": {
   "display_name": "Python 3",
   "language": "python",
   "name": "python3"
  },
  "language_info": {
   "codemirror_mode": {
    "name": "ipython",
    "version": 3
   },
   "file_extension": ".py",
   "mimetype": "text/x-python",
   "name": "python",
   "nbconvert_exporter": "python",
   "pygments_lexer": "ipython3",
   "version": "3.8.5"
  }
 },
 "nbformat": 4,
 "nbformat_minor": 4
}
