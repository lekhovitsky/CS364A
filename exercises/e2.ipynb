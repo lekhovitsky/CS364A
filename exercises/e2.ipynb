{
 "cells": [
  {
   "cell_type": "markdown",
   "metadata": {},
   "source": [
    "# Exercise Set II\n",
    "\n",
    "### Exercise 9\n",
    "\n",
    "According to the Myerson's lemma, our design space consists of a single allocation that always awards the good to the highest bidder. In all other allocations, increasing the bid might lead to losing the auction, which breaks monotonicity. \n",
    "\n",
    "Next, we know that there is a unique payment rule that implements this allocation, and it is explicitly given by the formula:\n",
    "$$\n",
    "p_i(b_i, \\mathbf{b}_{-i}) = \\sum_{j=1}^l z_j \\left( x_i(z_j + 0, \\mathbf{b}_{-i}) - x_i(z_j, \\mathbf{b}_{-i}) \\right).\n",
    "$$\n",
    "In our case, $x_i$ has only one jump at $z_j$ equal to the second highest price (let's call it $B$), and the size of the jump equals 1 (from not winning the good to winning one unit of the good).\n",
    "\n",
    "For $b_i>B$  the sum above consists of just one summand and gives $p_i(b_i, \\mathbf{b}_{-i}) = B \\cdot 1 = B$. For $b_i < B$ the sum doesn't consist of any summands so $p_i(b_i, \\mathbf{b_i}) = 0$. Combining this payment rule with the allocation rule described above, we get the Vickrey auction. Thus, it is the only auction that is DSIC, awards the good to the highest bidder, and charges losers 0."
   ]
  },
  {
   "cell_type": "markdown",
   "metadata": {},
   "source": [
    "### Exercise 10\n",
    "\n",
    "Let's recall the payment difference sandwich:\n",
    "$$\n",
    "z (x(y) - x(z)) \\le p(y) - p(z) \\le y (x(y) - x(z)),\n",
    "$$\n",
    "for arbitrary $z < y$.\n",
    "\n",
    "This immediately implies \n",
    "$$\n",
    "z(x(y) - x(z)) \\le y(x(y) - x(z)) \\Rightarrow (y - z)(x(y) - x(z)) \\ge 0,\n",
    "$$\n",
    "and the latter statement exactly means that the allocation rule $x(\\cdot)$ is non-decreasing (so it's a necessary condition for $x(\\cdot)$ to be implementable)."
   ]
  },
  {
   "cell_type": "markdown",
   "metadata": {},
   "source": [
    "### Exercise 11\n",
    "\n",
    "I failed drawing, so we'll have to use some imagination. Let's assume we have the following piecewise-constant allocation rule:\n",
    "$$\n",
    "x_i(b_i, \\mathbf{b}_{-i}) = \\begin{cases}\n",
    "\t0 & 0 \\le b_i \\le 5 \\\\\n",
    "    2 & 5 < b_i \\le 7 \\\\\n",
    "    4 & 7 < b_i \\le 10 \\\\\n",
    "    3 & 10 < b_i.\n",
    "\\end{cases}\n",
    "$$\n",
    "So, it exhibits 2 positive jumps (at points $5$ and $7$) and one negative jump (at point $10$). \n",
    "\n",
    "Also let's say that $i$ has a valuation of $9$. We can easily show (both algebraically and graphically) that deviating and bidding 12 instead of 9 leads to higher utility, making the mechanism non-DSIC."
   ]
  },
  {
   "cell_type": "markdown",
   "metadata": {},
   "source": [
    "### Exercise 12\n",
    "\n",
    "We assume\n",
    "\n",
    "* $\\mathbf{x}(\\cdot)$ is a piecewise-constant non-decreasing allocation rule;\n",
    "* payment rule is given by $p_i(b_i) = \\sum_{j=1}^l z_j \\left( x_i(z_j + 0) - x_i(z_j) \\right)$\n",
    "\n",
    "Let's consider three bids: $b_1 < v_i < b_2$ . For the mechanism to be DSIC, it must be that $u_i(b_1) < u_i(v_i)$ and $u_i(b_2) < u_i(v_i)$, where $u_i (b) = v_i x_i(b) - p_i(b)$ is player $i$'s utility . \n",
    "\n",
    "Let's denote the number of jumps of $x_i(\\cdot)$:\n",
    "\n",
    "* $l_1$ on the range $[0; b_1]$;\n",
    "* $l$ on the range $[0; v_i]$;\n",
    "* $l_2$ on the range $[0; b_2]$.\n",
    "\n",
    "Clear that $l_1 \\le l \\le l_2$.\n",
    "\n",
    "Let's now start substituting payments into the desired utility inequalities (I cut edges here and there, but the overall idea is clear).\n",
    "$$\n",
    "u_i(v_i) - u_i(b_1) = v_i (x_i(v_i) - x_i(b_1)) - \\sum_{j=l_1+1}^{l} z_j \\left( x_i(z_j + 0) - x_i(z_j) \\right).\n",
    "$$\n",
    "Note, that $\\forall j = \\overline{l_1 + 1, l}$ $z_j \\le v_i$, so \n",
    "$$\n",
    "\\sum_{j=l_1+1}^{l} z_j \\left( x_i(z_j + 0) - x_i(z_j) \\right) \\le v_j \\sum_{j=l_1+1}^{l}  \\left( x_i(z_j + 0) - x_i(z_j) \\right) = \\\\\n",
    "= v_j (x(v_i) - x(b_1)) \\Rightarrow u_i(v_i) - u_i(b_1) \\ge 0.\n",
    "$$\n",
    "Next,\n",
    "$$\n",
    "u_i(v_i) - u_i(b_2) = - v_i (x_i(b_2) - x_i(v_i)) + \\sum_{j=l+1}^{l_2} z_j \\left( x_i(z_j + 0) - x_i(z_j) \\right).\n",
    "$$\n",
    " $\\forall j = \\overline{l + 1, l_2}$ $v_i \\le z_j$, so by the same logic\n",
    "$$\n",
    "\\sum_{j=l+1}^{l_2} z_j \\left( x_i(z_j + 0) - x_i(z_j) \\right) \\ge v_j (x_i(b_2) - x_i(v_i)) \\Rightarrow u_i(v_i) - u_i(b_2) \\ge 0.\n",
    "$$\n",
    "So we indeed can conclude that the constructed mechanism id DSIC -- players are worse off by deviating from a truthful strategy (by either underbidding or overbidding their valuation)."
   ]
  },
  {
   "cell_type": "markdown",
   "metadata": {},
   "source": [
    "### Exercise 13\n",
    "\n",
    "It seems like we can make a substitution $v_i^\\prime = v_i \\beta_i$ for every player $j$ and run a normal sponsored search auction with these valuations:\n",
    "\n",
    "* Rename the players so that $v_1^\\prime \\ge v_2^\\prime \\ge \\dots \\ge v_n^\\prime;$\n",
    "  * Under truthful bidding, we expect $b_i$ to be equal to $v_i^\\prime$;\n",
    "* Allocate the first slot to player $1$, second slot to player $2$, ..., $k$-th slot to player $k;$\n",
    "  *  This allocation is surplus maximizing and monotone (see the previous exercise set);\n",
    "* To make the mechanism DSIC, the payment for an $i$-th winner must be $p_i(\\mathbf{b}) = \\sum_{j=i}^k b_{j+1} (\\alpha_j - \\alpha_{j+1});$\n",
    "  * The per-click payment is given by $p_i(\\mathbf{b}) = \\sum_{j=i}^k b_{j+1} \\frac{\\alpha_j - \\alpha_{j+1}}{\\alpha_i \\beta_i}.$\n",
    "\n",
    "Let's verify. With $k = 1$, player $1$ would pay $p_1 = \\frac{v_2 \\beta_2}{\\beta_1}$. His utility is non-negative:\n",
    "$$\n",
    "v_1^\\prime \\ge v_2^\\prime \\Leftrightarrow v_1 \\beta_1 \\ge v_2 \\beta_2 \\Leftrightarrow v_1 \\ge \\frac{v_2 \\beta_2}{\\beta_1} \\Rightarrow v_1 \\ge p_1,\n",
    "$$\n",
    "so everything seems okay."
   ]
  },
  {
   "cell_type": "markdown",
   "metadata": {},
   "source": [
    "### Exercise 14\n",
    "\n",
    "Let's fix a player $i$. Let $\\mathbf{b}=(b_1, \\dots, b_i, \\dots, b_n)$ be the original vector of bids, and $\\mathbf{b}_i^\\prime=(b_1, \\dots, b_i^\\prime, \\dots, b_n)$ be the modified, $b_i^\\prime > b_i \\ge 0$. Also, let $\\mathbf{x}=(x_1, \\dots, x_i, \\dots, x_n)$ be the surplus-maximizing allocation for $\\mathbf{b}$, and $\\mathbf{x}^\\prime = (x_1^\\prime, \\dots, x_i^\\prime, \\dots, x_n^\\prime)$ be the surplus-maximizing allocation for $\\mathbf{b}^\\prime$.\n",
    "\n",
    "Since $\\mathbf{x}$ is the surplus-maximizing allocation for $\\mathbf{b}$, $\\mathbf{x}^\\top \\mathbf{b} \\ge (\\mathbf{x}^\\prime)^\\top \\mathbf{b}$, or\n",
    "$$\n",
    "\\sum_{j \\ne i} b_j x_j + b_i x_i \\ge \\sum_{j \\ne i} b_j x_j^\\prime + b_i x_i^\\prime \\Rightarrow \\sum_{j \\ne i} b_j (x_j - x_j^\\prime) \\ge b_i (x_i^\\prime - x_i).\n",
    "$$\n",
    "Next, since $\\mathbf{x}^\\prime$ is the surplus-maximizing allocation for $\\mathbf{b}^\\prime$, $(\\mathbf{x}^\\prime)^\\top \\mathbf{b}^\\prime \\ge \\mathbf{x}^\\top \\mathbf{b}^\\prime$, or\n",
    "$$\n",
    "\\sum_{j \\ne i} b_j x_j^\\prime + b_i^\\prime x_i^\\prime \\ge \\sum_{j \\ne i} b_j x_j + b_i^\\prime x_i \\Rightarrow \\sum_{j \\ne i} b_j (x_j - x_j^\\prime) \\le b_i^\\prime (x_i^\\prime - x_i).\n",
    "$$\n",
    "Combining, we get $b_i^\\prime (x_i^\\prime - x_i) \\ge b_i (x_i^\\prime - x_i)$, and, since $b_i^\\prime > b_i \\ge 0$, we conclude that $x_i^\\prime \\ge x_i$ and the allocation rule is indeed monotone."
   ]
  },
  {
   "cell_type": "markdown",
   "metadata": {},
   "source": [
    "### Exercise 15\n",
    "\n",
    "Let's denote the space of all feasible sets as $\\mathcal{S}.$ In order for $i$ to win the auction, the total surplus of the feasible set with $i$ in it ($S^*$) must be greater than or equal to the total surplus of any feasible set without $i$. Assuming truthful bidding, we can write this down as \n",
    "$$\n",
    "\\sum_{j \\in S^*} v_j \\ge \\max_{S \\in \\mathcal{S}:\\ i \\notin S} \\sum_{j \\in S} v_j,\n",
    "$$\n",
    "so $i$'s bid must satisfy\n",
    "$$\n",
    "v_i \\ge \\max_{S \\in \\mathcal{S}:\\ i \\notin S} \\sum_{j \\in S} v_j - \\sum_{j \\in S^* \\backslash \\{i\\}} v_j.\n",
    "$$\n",
    "The latter explicitly gives us the critical bid.\n",
    "\n",
    "Now, from the properties of $\\max$,\n",
    "$$\n",
    "\\forall S^\\prime \\in \\mathcal{S}:\\ i \\notin S^\\prime\\ \\max_{S \\in \\mathcal{S}:\\ i \\notin S} \\sum_{j \\in S} v_j \\ge \\sum_{j \\in S^\\prime} v_j.\n",
    "$$\n",
    "By simply substantiating $S^\\prime = S^* \\backslash \\{i\\}$, we get that the difference must be non-negative."
   ]
  },
  {
   "cell_type": "markdown",
   "metadata": {},
   "source": [
    "### Exercise 16\n",
    "\n",
    "First, we run a black box to find a surplus maximizing allocation in the auction with original bids.\n",
    "\n",
    "Next, for every player $i$, we should find the surplus maximizing allocation in the auction where $i$ doesn't participate. To do so, we artificially set $b_i = 0$, leave other bids unchanged, and run the black box with a new bids vector. Next, we evaluate the surpluses of all players except $i$ in both auctions, and set $i$'s payment to be the difference between the two.\n",
    "\n",
    "_In total, we run the black box $n+1$ times_."
   ]
  },
  {
   "cell_type": "markdown",
   "metadata": {},
   "source": [
    "### Exercise 17\n",
    "\n",
    "_[intentionally left blank]_"
   ]
  },
  {
   "cell_type": "markdown",
   "metadata": {},
   "source": [
    "### Exercise 18\n",
    "\n",
    "Let's fix an arbitrary player $i$ and note that increasing $b_i$ increases the ratio $\\frac{b_i}{w_i}$, which either moves $i$ higher in the \"leaderboard\" or doesn't change his position.\n",
    "\n",
    "* if $i$ doesn't win the auction, the allocation is automatically non-decreasing;\n",
    "\n",
    "* if $i$ wins the auction by being in the top of leaderboard, and\n",
    "  * increasing $b_i$ doesn't lead to changes in the leaderboard, than $i$ still wins;\n",
    "  * increasing $b_i$ moves $i$ higher in the leaderboard, than the order of the winning players changes, but the set of winners and their total surplus doesn't, so $i$ still wins;\n",
    "\n",
    "* if $i$ wins the auction by being the highest bidder with a large surplus, than $i$ would win with a larger bid.\n",
    "\n",
    "So, the described allocation rule is monotone."
   ]
  },
  {
   "cell_type": "markdown",
   "metadata": {},
   "source": [
    "### Exercise 19\n",
    "\n",
    "The direct mechanisms suck in at least one perspective: the need for players to share all their private information. It might be okay in sealed-bid auctions: the information is shared only with the mechanism designer. But some mechanisms imply sharing information not only to the designer, but with other players as well. If the players are to compete in future, sharing all information would inevitably lead to losing competitive advantage.\n",
    "\n",
    "Imagine a reverse DSIC auction: multiple companies compete to provide some service to the government. They disclose their costs (the revelation procedure described below) and the one with the smallest value wins, and is paid the second smallest value. In this scenario, an indirect revelation (sequentially placing bets in descending order) allows the companies that DON'T WIN the auction to reserve some portion of their private information: the statement $\\text{cost}_i \\le \\text{last bid}_i$ is less informative than $\\text{cost}_i = \\text{bid}_i$ (direct revelation)."
   ]
  }
 ],
 "metadata": {
  "kernelspec": {
   "display_name": "Python 3",
   "language": "python",
   "name": "python3"
  },
  "language_info": {
   "codemirror_mode": {
    "name": "ipython",
    "version": 3
   },
   "file_extension": ".py",
   "mimetype": "text/x-python",
   "name": "python",
   "nbconvert_exporter": "python",
   "pygments_lexer": "ipython3",
   "version": "3.8.5"
  }
 },
 "nbformat": 4,
 "nbformat_minor": 4
}
