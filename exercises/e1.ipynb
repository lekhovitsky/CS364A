{
 "cells": [
  {
   "cell_type": "markdown",
   "metadata": {},
   "source": [
    "# Exercise Set I\n",
    "\n",
    "### Exercise 1\n",
    "\n",
    "Idea 1: after the round-robin stage, the teams are randomly assigned the opponent in the quarterfinals of the knock-out stage.\n",
    "\n",
    "Idea 2: after the round-robin stage, top-1 teams of groups :a: and :b: select the opponents from top 1-2 teams of  groups C and D respectively. That's not completely fair, but nobody has incentive to lose the game:\n",
    "\n",
    "* in groups 🇦 and 🇧, placing the 2nd place in the group over the 1st takes away the right to choose an opponent (😥);\n",
    "* in groups 🇨 and 🇩, placing the 2nd place in the group over the 1st doesn't change the fact that you can be selected (😐)."
   ]
  },
  {
   "cell_type": "markdown",
   "metadata": {},
   "source": [
    "### Exercise 2\n",
    "\n",
    "The proposed solution was for every man to go to a distinct brunette woman instead of all of them going to the blonde. Although all men get non-zero utility in such scenario, every one of them is better off by deviating and going to the blonde. Thus, it's not a Nash Equilibrium, simply by definition. "
   ]
  },
  {
   "cell_type": "markdown",
   "metadata": {},
   "source": [
    "### Exercise 3\n",
    "\n",
    "Symmetric equilibrium $(\\frac{1}{3}, \\frac{1}{3}, \\frac{1}{3})$ with all actions being played by both players with equal probabilities is obvious. \n",
    "\n",
    "Any other strategy profile favors some actions above others, and the opponent can exploit it:\n",
    "\n",
    "* if one element (say, ⛰) is played with higher probability than the other two by the first player, the second player can get the advantage by increasing the probability of 🧻;\n",
    "* if two elements (say, ⛰ and 🧻) are played with higher probability than the third by the first player, the second player can get the advantage by playing 🧻 and ✂ more frequently.\n",
    "\n",
    "In both cases, the second player is incentivized to change his strategy towards \"winning\" elements. But this leads to first player also willing to change his strategy towards other \"winning\" elements. Thus, all such strategy profiles are not NE.\n",
    "\n",
    "We also can verify this result with code:\n",
    "\n",
    "```python\n",
    "import nashpy\n",
    "import numpy as np\n",
    "\n",
    "A = np.array([\n",
    "    [ 0,  1, -1],\n",
    "    [-1,  0,  1],\n",
    "    [ 1, -1,  0]\n",
    "])\n",
    "\n",
    "game = nashpy.Game(A, -A)\n",
    "for s1, s2 in g.support_enumeration():\n",
    "    print(\"Player 1 strategy:\", s1)\n",
    "    print(\"Player 2 strategy:\", s2)\n",
    "\n",
    "# Outputs:\n",
    "# Player 1 strategy: [0.33333333 0.33333333 0.33333333]\n",
    "# Player 2 strategy: [0.33333333 0.33333333 0.33333333]\n",
    "```"
   ]
  },
  {
   "cell_type": "markdown",
   "metadata": {},
   "source": [
    "### Exercise 4\n",
    "\n",
    "eBay's auction is an example of indirect mechanism: instead of simply announcing the bids as in the sealed-bid auctions, players announce them sequentially in the ascending order. This doesn't change the incentives though (*at least for rational players, whose valuations don't change randomly during the auction*): instead of slowly increasing the bid to the true valuation, one might immediately bid it, and this is a weakly dominant strategy, given the second-price payment rule (by the same argument as in the sealed-bid auction)."
   ]
  },
  {
   "cell_type": "markdown",
   "metadata": {},
   "source": [
    "### Exercise 5\n",
    "\n",
    "Assume players with first and third highest valuations bid truthfully. In this situation, the player with second highest valuation has an incentive to exaggerate their bid, win the auction, and pay less than their true valuation. Thus, the third-price auction is not DSIC."
   ]
  },
  {
   "cell_type": "markdown",
   "metadata": {},
   "source": [
    "### Exercise 6\n",
    "\n",
    "The analogue of a second-price auction for multiple identical units of a good has the following mechanism:\n",
    "\n",
    "1. Collect bids $b_1 > b_2 > ... > b_n$ (strict inequality to avoid ties)\n",
    "2. Players with $k$ highest bids receive one good each\n",
    "3. All winners pay $b_{k-1}$\n",
    "\n",
    "Let's assume a player $m$ truthfully declares their bid ($b_m = v_m$), other bidders bid arbitrarily. \n",
    "\n",
    "* If $m$ wins in this scenario ($v_m > b_k$), he has no incentive to deviate: bidding more simply doesn't change the outcome, bidding less can lead to losing an auction (if $b_m^{\\prime} < b_k$) or not changing the outcome at all (if $b_k < b_m^{\\prime} < b_m$);\n",
    "* If $m$ loses in this scenario ($v_m < b_k$), he also has no incentive to deviate: bidding less doesn't change the situation, bidding more either doesn't change the outcome (if $b_m < b_m^{\\prime}<b_k$), or leads to winning the auction (if $b_m > b_k > v_m$) with negative utility.\n",
    "\n",
    "Thus, this mechanism is DSIC."
   ]
  },
  {
   "cell_type": "markdown",
   "metadata": {},
   "source": [
    "### Exercise 7\n",
    "\n",
    "In a reverse auction, we\n",
    "\n",
    "* collect the prices at which all the contractors are willing to perform the task;\n",
    "* allocate the task to the contractor with the lowest price;\n",
    "* pay him the second lowest price.\n",
    "\n",
    "Mathematically, it's the same auction, but with negative bids and payments."
   ]
  },
  {
   "cell_type": "markdown",
   "metadata": {},
   "source": [
    "### Exercise 8\n",
    "\n",
    "This one is kind of intuitive. \n",
    "\n",
    "In social surplus maximizing allocation, the bidder with highest valuation (say, player $1$ with valuation $v_1$) must get the first slot. Otherwise, if $1$ is allocated $x_1 < \\alpha_1$, we can switch him with the current bidder on the first slot (say,  player $m$ with valuation $v_m$) and surely increase the social surplus:\n",
    "\n",
    "* surplus of all players except $1$ and $m$ doesn't change after this reallocation;\n",
    "* surplus of $1$ and $m$ increases:\n",
    "\n",
    "$$\n",
    "\\alpha_1 > x_1 \\Rightarrow \\alpha_1 (v_1 - v_m) > x_1 (v_1 - v_m) \\Rightarrow \\alpha_1 v_1 + x_1 v_m > \\alpha_1 v_m + x_1 v_1.\n",
    "$$\n",
    "\n",
    "Now, with the highest-valuation bidder fixed on the first slot, we can repeat this argument for the second-highest-valuation bidder and remaining $k-1$ slots, and so on."
   ]
  }
 ],
 "metadata": {
  "kernelspec": {
   "display_name": "Python 3",
   "language": "python",
   "name": "python3"
  },
  "language_info": {
   "codemirror_mode": {
    "name": "ipython",
    "version": 3
   },
   "file_extension": ".py",
   "mimetype": "text/x-python",
   "name": "python",
   "nbconvert_exporter": "python",
   "pygments_lexer": "ipython3",
   "version": "3.8.5"
  }
 },
 "nbformat": 4,
 "nbformat_minor": 4
}
